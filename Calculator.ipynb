{
 "cells": [
  {
   "cell_type": "markdown",
   "id": "0602c2f8",
   "metadata": {},
   "source": [
    "# Task 2 : Calculator"
   ]
  },
  {
   "cell_type": "code",
   "execution_count": 2,
   "id": "657b8af5",
   "metadata": {},
   "outputs": [],
   "source": [
    "from tkinter import *\n",
    "\n",
    "def btnClick(numbers):\n",
    "    global operator\n",
    "    operator = operator + str(numbers)\n",
    "    text_input.set(operator)\n",
    "\n",
    "\n",
    "def btnClearDisplay(): # Function for \"C\" button\n",
    "    global operator\n",
    "    operator = '' # Reset operator\n",
    "    text_input.set('') # Reset TextBox\n",
    "\n",
    "\n",
    "def btnEqualsInput(): # Function for \"=\" button\n",
    "    global operator\n",
    "    the_sum=str(eval(operator))\n",
    "    text_input.set(the_sum)\n",
    "    operator = ''\n",
    "\n",
    "\n",
    "cal = Tk()\n",
    "cal.title(\"Calculator\")\n",
    "operator = ''\n",
    "text_input = StringVar()\n",
    "\n",
    "font = ('airal', 20, 'bold')\n",
    "screen = Entry(cal, font=font, textvariable=text_input, bd=30, insertwidth=4, bg=\"light green\", justify='right').grid(columnspan=4)\n",
    "\n",
    "\n",
    "btn7 = Button(cal,padx=16,bd=8, fg=\"black\",font=('arial', 20, 'bold'),text='7', bg='light green', command=lambda:btnClick(7)).grid(row=1,column=0)\n",
    "btn8 = Button(cal,padx=16,bd=8, fg=\"black\",font=('arial', 20, 'bold'),text='8', bg='light green', command=lambda:btnClick(8)).grid(row=1,column=1)\n",
    "btn9 = Button(cal,padx=16,bd=8, fg=\"black\",font=('arial', 20, 'bold'),text='9', bg='light green', command=lambda:btnClick(9)).grid(row=1,column=2)\n",
    "Addition = Button(cal,padx=16,bd=8, fg=\"black\",font=('arial', 20, 'bold'),text='+', bg='light green', command=lambda:btnClick('+')).grid(row=1,column=3)\n",
    "\n",
    "btn4 = Button(cal,padx=16,bd=8, fg=\"black\",font=('arial', 20, 'bold'),text='4', bg='light green', command=lambda:btnClick(4)).grid(row=2,column=0)\n",
    "btn5 = Button(cal,padx=16,bd=8, fg=\"black\",font=('arial', 20, 'bold'),text='5', bg='light green', command=lambda:btnClick(5)).grid(row=2,column=1)\n",
    "btn6 = Button(cal,padx=16,bd=8, fg=\"black\",font=('arial', 20, 'bold'),text='6', bg='light green', command=lambda:btnClick(6)).grid(row=2,column=2)\n",
    "Subtraction = Button(cal,padx=16,bd=8, fg=\"black\",font=('arial', 20, 'bold'),text='-', bg='light green', command=lambda:btnClick('-')).grid(row=2,column=3)\n",
    "\n",
    "btn1 = Button(cal,padx=16,bd=8, fg=\"black\",font=('arial', 20, 'bold'),text='1', bg='light green', command=lambda:btnClick(1)).grid(row=3,column=0)\n",
    "btn2 = Button(cal,padx=16,bd=8, fg=\"black\",font=('arial', 20, 'bold'),text='2', bg='light green', command=lambda:btnClick(2)).grid(row=3,column=1)\n",
    "btn3 = Button(cal,padx=16,bd=8, fg=\"black\",font=('arial', 20, 'bold'),text='3', bg='light green', command=lambda:btnClick(3)).grid(row=3,column=2)\n",
    "Multiply = Button(cal,padx=16,bd=8, fg=\"black\",font=('arial', 20, 'bold'),text='*', bg='light green', command=lambda:btnClick('*')).grid(row=3,column=3)\n",
    "\n",
    "btn0 = Button(cal,padx=16,bd=8, fg=\"black\",font=('arial', 20, 'bold'),text='0', bg='light green', command=lambda:btnClick(0)).grid(row=4,column=0)\n",
    "btnClear = Button(cal,padx=16,bd=8, fg=\"black\",font=('arial', 20, 'bold'),text='C', bg='light green', command=lambda:btnClearDisplay()).grid(row=4,column=1)\n",
    "btnEquals = Button(cal,padx=16,bd=8, fg=\"black\",font=('arial', 20, 'bold'),text='=', bg='light green', command=btnEqualsInput).grid(row=4,column=2)\n",
    "Division = Button(cal,padx=16,bd=8, fg=\"black\",font=('arial', 20, 'bold'),text='/', bg='light green', command=lambda:btnClick('/')).grid(row=4,column=3)\n",
    "\n",
    "def Program():\n",
    "    cal.mainloop() # Run cal object with all settings : )\n",
    "\n",
    "\n",
    "Program()"
   ]
  }
 ],
 "metadata": {
  "kernelspec": {
   "display_name": "Python 3 (ipykernel)",
   "language": "python",
   "name": "python3"
  },
  "language_info": {
   "codemirror_mode": {
    "name": "ipython",
    "version": 3
   },
   "file_extension": ".py",
   "mimetype": "text/x-python",
   "name": "python",
   "nbconvert_exporter": "python",
   "pygments_lexer": "ipython3",
   "version": "3.11.4"
  }
 },
 "nbformat": 4,
 "nbformat_minor": 5
}
